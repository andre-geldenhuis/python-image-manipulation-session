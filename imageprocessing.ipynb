{
 "cells": [
  {
   "cell_type": "markdown",
   "id": "d9ea5c24-d8d9-4f0b-bbf2-3796c36e662d",
   "metadata": {},
   "source": [
    "# Python Image Manipulation with thousands of files\n",
    "## Or, How to Get Computers to Do Tedious Things for You\n",
    "\n",
    "\n",
    "### Before you start\n",
    "Make sure you've run though the *setup* before running though this notebook.  In summary you'll need:\n",
    "\n",
    "A local python install (system version is fine for MacOS and most Linux Distros)\n",
    "Git\n",
    "a Github account\n",
    "Git configured with your username and email address."
   ]
  },
  {
   "cell_type": "markdown",
   "id": "32e070ba-f761-416b-9c41-a5bdb232c6e3",
   "metadata": {},
   "source": [
    "## Intro\n",
    "\n",
    "Sometimes, you find yourself performing repetitive tasks on a computer. Since computers excel at handling repetitive tasks, we'll explore an example that involves manipulating tens of thousands of images. During this session, we'll cover:\n",
    "\n",
    "* Downloading and working with large datasets\n",
    "* Using Python virtual environments\n",
    "* Iteratively writing code\n",
    "* Version controlling our code as we progress\n",
    "* Optimising code to run in parallel for increased speed\n",
    "\n",
    "We'll conduct most of this using Python in a Jupyter notebook. If you've completed the setup, you should be able to follow along easily. However, feel free to attend and ask questions even if you're not planning on actively participating."
   ]
  },
  {
   "attachments": {},
   "cell_type": "markdown",
   "id": "f00ff121-6391-4b0c-b9e1-8fe8f9e30d8d",
   "metadata": {},
   "source": [
    "## Setup the initial Python Virtual Environment\n",
    "\n",
    "If you work on multiple Python projects, you'll likely have encountered Python virtual environments (venvs) and/or conda. You can think of these as ways to have a separate Python \"install\" or more accurately, an environment for each project. There are numerous reasons to use a venv or conda such as keeping different versions of a library separate. However, my favorite reason is reproducibility.\n",
    "\n",
    "If you move to another computer, High-Performance Computing (HPC) system, or have a collaborator working with you, you'll need to know which versions of which libraries are necessary to install to make your project work. Venvs help solve this problem with requirements files. Conda can also save its environment. For this example, we'll use venvs and pip as they are lightweight and require less to install. That being said, Conda is a great option too.\n",
    "\n",
    "Let's start by creating a venv, assuming you have a fairly recent version of Python 3 installed, everything you need should already be included.\n",
    "\n",
    "```bash\n",
    "python3 -m venv env #create a venv called env\n",
    "\n",
    "ls #see the env folder\n",
    "```\n",
    "\n",
    "To actually use the venv, you'll need to know some particular commands. These aren't too complicated and eventually, you'll remember them. There are helper scripts available to simplify this process, and Conda is also a bit simpler. We'll do it in a generic, lightweight way:\n",
    "\n",
    "```bash\n",
    "source env/bin/activate\n",
    "```\n",
    "\n",
    "Notice the leading `env` on your prompt.\n",
    "\n",
    "![Activated venv](docs/images/activated_env.png \"Activated Virtual Environment\")"
   ]
  },
  {
   "cell_type": "markdown",
   "id": "01c6b622-c663-405e-95f1-6082dcccad8e",
   "metadata": {},
   "source": [
    "### Installing and starting Jupyter\n",
    "\n",
    "Now we can install Jupyter which we'll be using for most of the session.\n",
    "\n",
    "in your terminal\n",
    "```bash\n",
    "pip install jupyter\n",
    "```\n",
    "\n",
    "If that doesn't work, you might need to specify ```pip3``` instead.\n",
    "\n",
    "Now we can start Jupyter, though depending on your operating system, you might need to deactivate and reactivate your virtual environment first\n",
    "\n",
    "```\n",
    "deactivate\n",
    "\n",
    "#then\n",
    "source env/bin/activate # just as before\n",
    "```\n",
    "\n",
    "To start Jupyter\n",
    "\n",
    "```\n",
    "jupyter-lab\n",
    "```\n",
    "\n",
    "This should open a tab in your browser with Jupyter, otherwise you might need to copy paste the line from the terminal, it'll look something like this\n",
    "\n",
    "![jupyter start text](docs/images/Jupyter-start.png \"jupyter start text\")"
   ]
  },
  {
   "cell_type": "code",
   "execution_count": null,
   "id": "ff2fba83-bb57-48c2-bb11-b006f696aa53",
   "metadata": {},
   "outputs": [],
   "source": [
    "Next, install Pillow:\n",
    "\n",
    "```bash\n",
    "pip install pillow\n",
    "```\n",
    "\n",
    "Now, let's generate a Python requirements file:\n",
    "\n",
    "```bash\n",
    "pip freeze > requirements.txt\n",
    "```\n",
    "\n",
    "Finally, add the requirements file to Git:\n",
    "\n",
    "```bash\n",
    "git add requirements.txt \n",
    "git commit -m \"Added requirements file with pillow\"\n",
    "```"
   ]
  }
 ],
 "metadata": {
  "kernelspec": {
   "display_name": "Python 3 (ipykernel)",
   "language": "python",
   "name": "python3"
  },
  "language_info": {
   "codemirror_mode": {
    "name": "ipython",
    "version": 3
   },
   "file_extension": ".py",
   "mimetype": "text/x-python",
   "name": "python",
   "nbconvert_exporter": "python",
   "pygments_lexer": "ipython3",
   "version": "3.12.3"
  }
 },
 "nbformat": 4,
 "nbformat_minor": 5
}
