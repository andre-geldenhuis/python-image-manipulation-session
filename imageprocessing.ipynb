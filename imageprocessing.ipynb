{
 "cells": [
  {
   "cell_type": "markdown",
   "id": "d9ea5c24-d8d9-4f0b-bbf2-3796c36e662d",
   "metadata": {},
   "source": [
    "# Python Image Manipulation with thousands of files\n",
    "## Or, How to Get Computers to Do Tedious Things for You\n",
    "\n",
    "\n",
    "### Before you start\n",
    "\n",
    "Most of this session will be in a in [browser version of this session](https://andre-geldenhuis.github.io/python-image-manipulation-session/) where you can do most of the single threaded steps without needing to install anything. (Using the [JupyterLite Xeus Kernel](https://github.com/jupyterlite/xeus) for those interested.)\n",
    "\n",
    "Another way to follow along is to install jupyterlab, git and a terminal locally.  See the [Setup instructions](https://github.com/andre-geldenhuis/python-image-manipulation-session/blob/main/SETUP.md)\n",
    "\n",
    "If you're going to run the session in your own Jupyter environment you'll need:\n",
    "\n",
    "* A local python install (system version is fine for MacOS and most Linux Distros)\n",
    "* Git\n",
    "* a Github account\n",
    "* Git configured with your username and email address.\n",
    "* Jupyter and pillow installed in either a python virtual enviroment or a conda enviroment"
   ]
  },
  {
   "cell_type": "markdown",
   "id": "32e070ba-f761-416b-9c41-a5bdb232c6e3",
   "metadata": {},
   "source": [
    "## Intro\n",
    "\n",
    "Sometimes, you find yourself performing repetitive tasks on a computer. Since computers excel at handling repetitive tasks, we'll explore an example that involves manipulating tens of thousands of images. To make this session accessable to everyone the first half of the session will be in a pure browser jupyterlite session.  Afterward we will switch to local jupyter sessions, for those who have set that up, to use multiprocessing.\n",
    "During this session, we'll cover:\n",
    "\n",
    "* Using Jupyter notebooks for prototyping.\n",
    "    * Shifting the code to python functions for version controll and clarity.\n",
    "* Downloading and working with large datasets\n",
    "* Using Python virtual environments\n",
    "* Iteratively writing code\n",
    "* Version controlling our code as we progress\n",
    "* Optimising code to run in parallel for increased speed\n",
    "\n",
    "We'll conduct most of this using Python in a Jupyterlite notebook. If you've completed the setup, you should be able to follow along in your own local jupyter session. If you've not managed to get though the setup, the browser jupyterlite session will good enough for most of the session."
   ]
  },
  {
   "attachments": {},
   "cell_type": "markdown",
   "id": "f00ff121-6391-4b0c-b9e1-8fe8f9e30d8d",
   "metadata": {},
   "source": [
    "<div style=\"color: white; background-color: #2196F3; border-left: 6px solid #1976D2; padding: 0.5em;\">\n",
    "    <strong>Note:</strong> For those following along in their own, non jupyterlite session, make sure you've installed pillow.  See the setup instructions\n",
    "</div>"
   ]
  },
  {
   "cell_type": "markdown",
   "id": "50130c93-ac9f-44ef-bd14-f9c58b5eed79",
   "metadata": {},
   "source": [
    "## The Dataset\n",
    "\n",
    "From 2014 to 2018 there was a campain using automatic cameras (camera traps) in the Wellington Region.  The large number of captured images, 270,450 by 2018, required some pre processing before being identified with the help of Citizen Scientists.\n",
    "\n",
    "The images have a bottom bar which contrains date and time, which we will be removing.  We also might want to remove the manufacturer logo incase the images are used to machine learning later on.\n",
    "\n",
    "![Example image](docs/images/wellington_thumb_800.jpg \"Examppel Image\")\n",
    "\n",
    "We will be utilizing images from camera traps to experiment with manipulating images on a small scale - then eventually scale to potentially hundreds of thousands of images. Here are the data and instructions for accessing it: https://lila.science/datasets/wellingtoncameratraps"
   ]
  },
  {
   "cell_type": "markdown",
   "id": "8818e655-d9ee-4651-ba80-93347744f2be",
   "metadata": {},
   "source": [
    "### Example Images\n",
    "\n",
    "We will start working with the example images in `example_images`.  Once we have some tidy working code, we will cover how you'd download a large subset of the images and work on that."
   ]
  },
  {
   "cell_type": "markdown",
   "id": "e0e838a3-a479-4223-b7a0-f24640a8660b",
   "metadata": {},
   "source": [
    "### Let's write some python! - Listing files with *pathlib*\n",
    "\n",
    "There are many ways to generate a list of files in Python. We're going to use `pathlib` and `glob`. Note that `pathlib` was only introduced in Python 3.4, but most Python versions in use today should be newer than that.\n",
    "\n",
    "We'll build up our Python program iteratively.\n"
   ]
  },
  {
   "cell_type": "code",
   "execution_count": 1,
   "id": "1b91c63b-f8e9-454c-bb32-f90cb03ba7ed",
   "metadata": {},
   "outputs": [
    {
     "data": {
      "text/plain": [
       "PosixPath('/Users/geldenan/notbacked/python-image-manipulation-session/example_images')"
      ]
     },
     "execution_count": 1,
     "metadata": {},
     "output_type": "execute_result"
    }
   ],
   "source": [
    "from pathlib import Path\n",
    "\n",
    "# See what the path to our example_images is represented as\n",
    "our_path = Path.cwd().joinpath('example_images')\n",
    "our_path"
   ]
  },
  {
   "cell_type": "code",
   "execution_count": 2,
   "id": "d0305dd5-7b5f-4291-b1e1-ae6df08a7b9f",
   "metadata": {},
   "outputs": [
    {
     "data": {
      "text/plain": [
       "<generator object Path.glob at 0x1040bc6a0>"
      ]
     },
     "execution_count": 2,
     "metadata": {},
     "output_type": "execute_result"
    }
   ],
   "source": [
    "# let's try to get all the files\n",
    "imfiles = our_path.glob(\"*\")\n",
    "imfiles"
   ]
  },
  {
   "cell_type": "markdown",
   "id": "516c6be7-7689-4d4c-a9c8-a81c574c700d",
   "metadata": {},
   "source": [
    "> A generator in Python is a type of iterable that lazily produces items one at a time and only as needed, which can be more memory efficient than generating all items at once. They are useful when you're working with large datasets or streams of data where you don't want to hold all items in memory simultaneously.\n"
   ]
  },
  {
   "cell_type": "code",
   "execution_count": 3,
   "id": "8b36e03c-6c18-473b-9dfa-5ceacd1c6490",
   "metadata": {},
   "outputs": [
    {
     "name": "stdout",
     "output_type": "stream",
     "text": [
      "/Users/geldenan/notbacked/python-image-manipulation-session/example_images/010116045550034b9963.JPG\n",
      "/Users/geldenan/notbacked/python-image-manipulation-session/example_images/010116042724043b5173.JPG\n",
      "/Users/geldenan/notbacked/python-image-manipulation-session/example_images/010116060244029a3302.JPG\n"
     ]
    }
   ],
   "source": [
    "# It's just a generator object, let's iterate through it\n",
    "for f in imfiles:\n",
    "    print(f)"
   ]
  },
  {
   "cell_type": "code",
   "execution_count": 4,
   "id": "de49e89d-6038-431b-806f-4c6a1b188036",
   "metadata": {},
   "outputs": [],
   "source": [
    "# What if we had non-image files? Let's make it specific to the JPG files we downloaded\n",
    "imfiles = our_path.glob(\"*.JPG\")\n",
    "imfiles = our_path.rglob(\"*.JPG\")  # if we had subdirectories (recursive glob)"
   ]
  },
  {
   "cell_type": "markdown",
   "id": "dfacdb8d-0c34-4013-9e8a-8291344ea251",
   "metadata": {},
   "source": [
    "### Editing an image\n",
    "\n",
    "Let's get a single image and crop the bottom of it."
   ]
  },
  {
   "cell_type": "code",
   "execution_count": 5,
   "id": "80f25873-9f5a-4bfd-91ca-6b5ead2d2f4b",
   "metadata": {},
   "outputs": [
    {
     "data": {
      "text/plain": [
       "PosixPath('/Users/geldenan/notbacked/python-image-manipulation-session/example_images/010116045550034b9963.JPG')"
      ]
     },
     "execution_count": 5,
     "metadata": {},
     "output_type": "execute_result"
    }
   ],
   "source": [
    "from pathlib import Path\n",
    "\n",
    "test_path='example_images'\n",
    "\n",
    "our_path = Path.cwd().joinpath('example_images')\n",
    "\n",
    "# Generate Path objects\n",
    "imfiles = our_path.glob(\"*.JPG\")\n",
    "\n",
    "imfile=next(imfiles) # google python generator to find out about next\n",
    "imfile"
   ]
  },
  {
   "cell_type": "code",
   "execution_count": 6,
   "id": "0d02e786-22f1-4eb0-90ca-d073288c7488",
   "metadata": {},
   "outputs": [],
   "source": [
    "from PIL import Image #we'll need pillow to load the image\n",
    "\n",
    "im = Image.open(imfile)"
   ]
  },
  {
   "cell_type": "code",
   "execution_count": 7,
   "id": "8e7bd589-47a4-4ad3-80de-58d546a50570",
   "metadata": {},
   "outputs": [
    {
     "data": {
      "text/plain": [
       "(3264, 2448)"
      ]
     },
     "execution_count": 7,
     "metadata": {},
     "output_type": "execute_result"
    }
   ],
   "source": [
    "#explore the im object\n",
    "im.height\n",
    "im.size"
   ]
  },
  {
   "cell_type": "code",
   "execution_count": null,
   "id": "4732da7b-40bb-4c17-81b7-3afb0e2b333c",
   "metadata": {},
   "outputs": [],
   "source": [
    "im.show()"
   ]
  },
  {
   "cell_type": "code",
   "execution_count": null,
   "id": "7327eccb-da0b-4656-b70a-fb1ebc21803c",
   "metadata": {},
   "outputs": [],
   "source": []
  }
 ],
 "metadata": {
  "kernelspec": {
   "display_name": "Python 3 (ipykernel)",
   "language": "python",
   "name": "python3"
  },
  "language_info": {
   "codemirror_mode": {
    "name": "ipython",
    "version": 3
   },
   "file_extension": ".py",
   "mimetype": "text/x-python",
   "name": "python",
   "nbconvert_exporter": "python",
   "pygments_lexer": "ipython3",
   "version": "3.12.3"
  }
 },
 "nbformat": 4,
 "nbformat_minor": 5
}
