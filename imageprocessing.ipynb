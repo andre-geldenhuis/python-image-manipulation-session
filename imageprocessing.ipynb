{
 "cells": [
  {
   "cell_type": "markdown",
   "id": "d9ea5c24-d8d9-4f0b-bbf2-3796c36e662d",
   "metadata": {},
   "source": [
    "# Python Image Manipulation with thousands of files\n",
    "## Or, How to Get Computers to Do Tedious Things for You\n",
    "\n",
    "\n",
    "### Before you start\n",
    "\n",
    "Most of this session will be in a [browser version of this session](https://andre-geldenhuis.github.io/python-image-manipulation-session/) where you can do most of the single threaded steps without needing to install anything. (Using the [JupyterLite Xeus Kernel](https://github.com/jupyterlite/xeus) for those interested.)\n",
    "\n",
    "Another way to follow along is to install jupyterlab, git and a terminal locally.  See the [Setup instructions](https://github.com/andre-geldenhuis/python-image-manipulation-session/blob/main/SETUP.md)\n",
    "\n",
    "If you're going to run the session in your own Jupyter environment you'll need:\n",
    "\n",
    "* A local python install (system version is fine for macOS and most Linux Distros)\n",
    "* Git\n",
    "* a GitHub account\n",
    "* Git configured with your username and email address.\n",
    "* Jupyter and pillow installed in either a python virtual enviroment or a conda enviroment"
   ]
  },
  {
   "cell_type": "markdown",
   "id": "32e070ba-f761-416b-9c41-a5bdb232c6e3",
   "metadata": {},
   "source": [
    "## Intro\n",
    "\n",
    "Sometimes, you find yourself performing repetitive tasks on a computer. Since computers excel at handling repetitive tasks, we'll explore an example that involves manipulating tens of thousands of images. To make this session accessible to everyone the first half of the session will be in a pure browser jupyterlite session.  Afterward we will switch to local jupyter sessions, for those who have set that up, to use multiprocessing.\n",
    "During this session, we'll cover:\n",
    "\n",
    "* Using Jupyter notebooks for prototyping.\n",
    "    * Shifting the code to python functions for version controll and clarity.\n",
    "* Downloading and working with large datasets\n",
    "* Using Python virtual environments\n",
    "* Iteratively writing code\n",
    "* Version controlling our code as we progress\n",
    "* Optimising code to run in parallel for increased speed\n",
    "\n",
    "We'll conduct most of this using Python in a Jupyterlite notebook. If you've completed the setup, you should be able to follow along in your own local jupyter session. If you've not managed to get though the setup, the browser jupyterlite session will good enough for most of the session."
   ]
  },
  {
   "attachments": {},
   "cell_type": "markdown",
   "id": "f00ff121-6391-4b0c-b9e1-8fe8f9e30d8d",
   "metadata": {},
   "source": [
    "<div style=\"color: white; background-color: #2196F3; border-left: 6px solid #1976D2; padding: 0.5em;\">\n",
    "    <strong>Note:</strong> For those following along in their own, non jupyterlite session, make sure you've installed pillow.  See the setup instructions\n",
    "</div>"
   ]
  },
  {
   "cell_type": "markdown",
   "id": "50130c93-ac9f-44ef-bd14-f9c58b5eed79",
   "metadata": {},
   "source": [
    "## The Dataset\n",
    "\n",
    "From 2014 to 2018 there was a campaign using automatic cameras (camera traps) in the Wellington Region.  The large number of captured images, 270,450 by 2018, required some pre-processing before being identified with the help of Citizen Scientists.\n",
    "\n",
    "The images have a bottom bar which contrains date and time, which we will be removing.  We also might want to remove the manufacturer logo incase the images are used to machine learning later on.\n",
    "\n",
    "![Example image](docs/images/wellington_thumb_800.jpg \"Example Image\")\n",
    "\n",
    "We will be utilizing images from camera traps to experiment with manipulating images on a small scale - then eventually scale to potentially hundreds of thousands of images. Here are the data and instructions for accessing it: https://lila.science/datasets/wellingtoncameratraps"
   ]
  },
  {
   "cell_type": "markdown",
   "id": "8818e655-d9ee-4651-ba80-93347744f2be",
   "metadata": {},
   "source": [
    "### Example Images\n",
    "\n",
    "We will start working with the example images in `example_images`.  Once we have some tidy working code, we will cover how you'd download a large subset of the images and work on that."
   ]
  },
  {
   "cell_type": "markdown",
   "id": "e0e838a3-a479-4223-b7a0-f24640a8660b",
   "metadata": {},
   "source": [
    "## The code\n",
    "### Let's write some python! - Listing files with *pathlib*\n",
    "\n",
    "There are many ways to generate a list of files in Python. We're going to use `pathlib` and `glob`. Note that `pathlib` was only introduced in Python 3.4, but most Python versions in use today should be newer than that.\n",
    "\n",
    "We'll build up our Python program iteratively.\n"
   ]
  },
  {
   "cell_type": "code",
   "execution_count": null,
   "id": "1b91c63b-f8e9-454c-bb32-f90cb03ba7ed",
   "metadata": {},
   "outputs": [],
   "source": [
    "from pathlib import Path\n",
    "\n",
    "# See what the path to our example_images is represented as\n",
    "our_path = Path.cwd().joinpath('example_images')\n",
    "our_path"
   ]
  },
  {
   "cell_type": "code",
   "execution_count": null,
   "id": "d0305dd5-7b5f-4291-b1e1-ae6df08a7b9f",
   "metadata": {},
   "outputs": [],
   "source": [
    "# let's try to get the list of all the files\n",
    "image_paths = our_path.glob(\"*\")\n",
    "image_paths"
   ]
  },
  {
   "cell_type": "markdown",
   "id": "516c6be7-7689-4d4c-a9c8-a81c574c700d",
   "metadata": {},
   "source": [
    "> A generator in Python is a type of iterable that lazily produces items one at a time and only as needed, which can be more memory efficient than generating all items at once. They are useful when you're working with large datasets or streams of data where you don't want to hold all items in memory simultaneously.\n"
   ]
  },
  {
   "cell_type": "code",
   "execution_count": null,
   "id": "8b36e03c-6c18-473b-9dfa-5ceacd1c6490",
   "metadata": {},
   "outputs": [],
   "source": [
    "# It's just a generator object, let's iterate through it\n",
    "for f in image_paths:\n",
    "    print(f)"
   ]
  },
  {
   "cell_type": "code",
   "execution_count": null,
   "id": "de49e89d-6038-431b-806f-4c6a1b188036",
   "metadata": {},
   "outputs": [],
   "source": [
    "# What if we had non-image files? Let's make it specific to the JPG files we downloaded\n",
    "image_paths = our_path.glob(\"*.JPG\")\n",
    "image_paths = our_path.rglob(\"*.JPG\")  # if we had subdirectories ( rglob - recursive glob)"
   ]
  },
  {
   "cell_type": "markdown",
   "id": "dfacdb8d-0c34-4013-9e8a-8291344ea251",
   "metadata": {},
   "source": [
    "### Editing an image\n",
    "\n",
    "Let's get a single image and crop the bottom of it."
   ]
  },
  {
   "cell_type": "code",
   "execution_count": null,
   "id": "80f25873-9f5a-4bfd-91ca-6b5ead2d2f4b",
   "metadata": {},
   "outputs": [],
   "source": [
    "from pathlib import Path\n",
    "\n",
    "our_path = Path.cwd().joinpath('example_images')\n",
    "\n",
    "# Generate Path objects\n",
    "image_paths = our_path.glob(\"*.JPG\")\n",
    "\n",
    "image_path = next(image_paths) # google python generator to find out about -next-\n",
    "image_path"
   ]
  },
  {
   "cell_type": "code",
   "execution_count": null,
   "id": "0d02e786-22f1-4eb0-90ca-d073288c7488",
   "metadata": {},
   "outputs": [],
   "source": [
    "from PIL import Image #we'll need pillow to load the image\n",
    "\n",
    "im = Image.open(image_path)"
   ]
  },
  {
   "cell_type": "code",
   "execution_count": null,
   "id": "8e7bd589-47a4-4ad3-80de-58d546a50570",
   "metadata": {},
   "outputs": [],
   "source": [
    "#explore the im object\n",
    "im.height\n",
    "im.size"
   ]
  },
  {
   "cell_type": "code",
   "execution_count": null,
   "id": "7327eccb-da0b-4656-b70a-fb1ebc21803c",
   "metadata": {},
   "outputs": [],
   "source": [
    "im # Show the image to get an idea of what we are doing."
   ]
  },
  {
   "cell_type": "markdown",
   "id": "8c2e6d14-6c37-48a8-b8ab-94d493d3d384",
   "metadata": {},
   "source": [
    "### Get the crop ratios\n",
    "\n",
    "We want to crop away the bottom of the image, so most of the Bushnell logo and the time and date.  You'll notice that the bottom of the logo is already cropped off - In the original images there was another row below that had the GPS locations of the camera traps.  These images were used in citizen science project to identify what was in the images, this ran while the camera traps were still in the field, and we didn't want them to get stolen. \n",
    "\n",
    "We'll get the amount to crop off the bottom by trial and error. It's a little easier this way in a JupyterLab session.  In real life you could use some image editing program to work out the correct number of pixels to remove."
   ]
  },
  {
   "cell_type": "code",
   "execution_count": null,
   "id": "cb13428f-d8a4-438a-9835-24c56bc88e90",
   "metadata": {},
   "outputs": [],
   "source": [
    "#Store the width and height\n",
    "width, height = im.size\n",
    "\n",
    "# Setting the points for cropped image\n",
    "left = 0\n",
    "top = 0\n",
    "right = width\n",
    "bottom = height-50  # lets take a guess here\n",
    "\n",
    "# note the new variable name to prevent overriding the original as we may want to make further adjustments\n",
    "im1 = im.crop((left, top, right, bottom)) \n",
    "im1\n"
   ]
  },
  {
   "cell_type": "code",
   "execution_count": null,
   "id": "a7d149b8-bea5-4258-b41c-8299aec7aca5",
   "metadata": {},
   "outputs": [],
   "source": [
    "# Iterate on above code block until the image is correctly cropped.\n",
    "\n",
    "bottom = height-90\n",
    "im1 = im.crop((left, top, right, bottom))\n",
    "im1"
   ]
  },
  {
   "cell_type": "markdown",
   "id": "2393c9fe-5066-406a-875e-a246b96b6796",
   "metadata": {},
   "source": [
    "## Drawing on images\n",
    "\n",
    "The next step in our Python image processing journey is to cover the camera vendor's brand by drawing a rectangle. This is a useful technique if you're concerned about your machine learning model training on a logo. However, in such cases, it would be even better to trim the entire bottom of the image to avoid the model training on a black square. We'll just go ahead with a black square to demo how to do it from PIL import Image, ImageDraw # Import ImageDraw"
   ]
  },
  {
   "cell_type": "code",
   "execution_count": null,
   "id": "10285daa-a75d-4b2d-94a9-f9b5dc08a4ce",
   "metadata": {},
   "outputs": [],
   "source": [
    "from PIL import Image, ImageDraw  # Import ImageDraw"
   ]
  },
  {
   "cell_type": "code",
   "execution_count": null,
   "id": "a476f7f0-c46c-400f-91a6-a06386e213b4",
   "metadata": {},
   "outputs": [],
   "source": [
    "# Get the new image width and height to simplify the subsequent calculations\n",
    "width, height = im1.size\n",
    "\n",
    "# Prepare an image draw object, we'll call overlay as we'll be using it to cover up the logo\n",
    "overlay = ImageDraw.Draw(im1)"
   ]
  },
  {
   "cell_type": "code",
   "execution_count": null,
   "id": "25bee685-ccaf-46eb-8c83-c80cce4ecb36",
   "metadata": {},
   "outputs": [],
   "source": [
    "# The 'rectangle' function takes coordinates as follows: [(x0, y0), (x1, y1)]\n",
    "\n",
    "# Let's estimate the size of the rectangle we want to draw\n",
    "w, h = 100, 90\n",
    "\n",
    "# Establish the rectangle's coordinates\n",
    "x0 = 0\n",
    "y0 = height - h\n",
    "x1 = w\n",
    "y1 = height\n",
    "\n",
    "shape = [(x0, y0), (x1, y1)]\n",
    "\n",
    "# Draw a rectangle on the image with a green outline and a black fill\n",
    "overlay.rectangle(shape, fill=\"black\", outline=\"green\")"
   ]
  },
  {
   "cell_type": "code",
   "execution_count": null,
   "id": "c3372d2d-80a8-488c-8442-e4a56e358ff1",
   "metadata": {},
   "outputs": [],
   "source": [
    "im1 # Note we want to look at im1 as it's what we are applying the ImageDraw object 'overlay' too"
   ]
  },
  {
   "cell_type": "code",
   "execution_count": null,
   "id": "a40b501e-00f2-4dcf-89f0-f2a667cf7b5c",
   "metadata": {},
   "outputs": [],
   "source": [
    "# Iterate on above code block until the logo is fully covered.\n",
    "\n",
    "# Prepare an image draw object, we'll call overlay as we'll be using it to cover up the logo\n",
    "overlay = ImageDraw.Draw(im1)\n",
    "\n",
    "# Let's modify the size of the rectangle\n",
    "w, h = 200, 108\n",
    "\n",
    "# Update the coordinates\n",
    "x0 = 0\n",
    "y0 = height - h\n",
    "x1 = w\n",
    "y1 = height\n",
    "\n",
    "shape = [(x0, y0), (x1, y1)]\n",
    "\n",
    "# Draw another rectangle, this time with a black outline and black fill\n",
    "overlay.rectangle(shape, fill=\"black\", outline=\"black\")\n",
    "\n",
    "im1"
   ]
  },
  {
   "cell_type": "markdown",
   "id": "3dfe2af6-ee49-4c6d-ae56-e8fc7c79dad5",
   "metadata": {},
   "source": [
    "### Saving the output\n",
    "\n",
    "So far all the changes we have made to the image has been in memory only.  Its good practise to save your changed data, images, datasets in a new location.  We don't want to overwrite our originals. This lets us back out of any mistakes, but it also makes sure our workflow is on the path to repeatability.\n",
    "\n",
    "Going back to how we first got the path for an image, let's modify that to make a path for a new location to save it."
   ]
  },
  {
   "cell_type": "code",
   "execution_count": null,
   "id": "96172437-abac-4278-8c99-e73c1ca9e518",
   "metadata": {},
   "outputs": [],
   "source": [
    "from pathlib import Path\n",
    "\n",
    "our_path = Path.cwd().joinpath('example_images')\n",
    "\n",
    "# Generate Path objects\n",
    "image_paths = our_path.glob(\"*.JPG\")\n",
    "\n",
    "image_path = next(image_paths) "
   ]
  },
  {
   "cell_type": "code",
   "execution_count": null,
   "id": "e823b2ae-6333-46d5-8851-ae0ed8214b72",
   "metadata": {},
   "outputs": [],
   "source": [
    "our_path # the full path the images are in"
   ]
  },
  {
   "cell_type": "code",
   "execution_count": null,
   "id": "04e557c3-b137-42e0-9126-acd8f243d05b",
   "metadata": {},
   "outputs": [],
   "source": [
    "image_path # the full path we loaded a particular image from"
   ]
  },
  {
   "cell_type": "code",
   "execution_count": null,
   "id": "9df61217-c5e3-4d3e-8ee1-1c8a33eefa9e",
   "metadata": {},
   "outputs": [],
   "source": [
    "image_path.name # we can also get just the filename"
   ]
  },
  {
   "cell_type": "code",
   "execution_count": null,
   "id": "00061ef2-66da-4a30-af1b-c5e214879726",
   "metadata": {},
   "outputs": [],
   "source": [
    "# What we want is to have an output path or folder next to the example_images folder that we can save a file with the same name into\n",
    "# We can construct this just like we construced the path to example iamges.\n",
    "\n",
    "output_path = Path.cwd().joinpath('output')\n",
    "\n",
    "output_image_path =  Path.cwd().joinpath(output_path, image_path.name)\n",
    "output_image_path"
   ]
  },
  {
   "cell_type": "code",
   "execution_count": null,
   "id": "9bd21e06-6cc2-4a1a-a320-7d81442587c0",
   "metadata": {},
   "outputs": [],
   "source": [
    "im1.save(output_image_path) "
   ]
  },
  {
   "cell_type": "code",
   "execution_count": null,
   "id": "9eaf794f-b352-458f-ae53-abce4e578cdd",
   "metadata": {},
   "outputs": [],
   "source": [
    "# The above will fail the first time as the directory doesn't exist yet, let's create it and try again.\n",
    "\n",
    "# Create the directory if it doesn't exist\n",
    "output_path.mkdir(parents=True, exist_ok=True)\n",
    "\n",
    "im1.save(output_image_path) "
   ]
  },
  {
   "cell_type": "markdown",
   "id": "53b0bea8-f81a-43d9-9a4b-ec78c0f76b84",
   "metadata": {},
   "source": [
    "## Custom functions for repeatable workflows\n",
    "\n",
    "In our Jupyter notebook session, we've iteratively developed and tested our code in an interactive environment. This format is excellent for experimentation and learning, as it allows immediate feedback and simplifies complex concepts.\n",
    "\n",
    "However, as we transition our code into a separate .py file and define our functions there, you might notice that it abstracts away much of the interactivity we had in the notebook. While this might seem like a drawback at first, it actually brings several significant advantages:\n",
    "\n",
    "* Modularity and Reusability: By placing our code into functions within a .py file, we make our code more modular. This means you can easily reuse these functions in other projects or within different parts of the same project without rewriting them.\n",
    "\n",
    "* Cleaner Code: Having our code in a separate file encourages cleaner, more organized coding practices. Functions are clearly defined, and the code is structured in a way that’s easy to read and maintain.\n",
    "\n",
    "* Version Control: Jupyter notebooks can be a bit cumbersome when it comes to version control. The file format includes output cells, metadata, and other elements that can clutter the version history and make merging changes more complex. Pure Python scripts, on the other hand, are straightforward text files that integrate seamlessly with version control systems like Git. This makes tracking changes, collaborating with others, and maintaining a clean development history much easier.\n"
   ]
  },
  {
   "cell_type": "markdown",
   "id": "65cc1417-9535-45e3-a712-528f163dcfe6",
   "metadata": {},
   "source": [
    "### Building up the function in a cell\n",
    "\n",
    "We'll write our function in one big cell block, and once we're happy with it, we'll write a separate .py file.  We want to do all the steps we've done so far.\n",
    "\n"
   ]
  },
  {
   "cell_type": "code",
   "execution_count": null,
   "id": "057fb46b-40c1-492e-9fb5-c36c627ff924",
   "metadata": {},
   "outputs": [],
   "source": [
    "from pathlib import Path\n",
    "from PIL import Image, ImageDraw\n",
    "\n",
    "example_image_path = 'example_images'\n",
    "output_path = 'output'\n",
    "\n",
    "# Generate Path objects\n",
    "raw_path = Path.cwd().joinpath(example_image_path)\n",
    "image_paths = raw_path.glob(\"*.JPG\")\n",
    "\n",
    "# Get the first image path out of the generator\n",
    "image_path = next(image_paths)\n",
    "\n",
    "# Print image path and load\n",
    "print(image_path)\n",
    "im = Image.open(image_path)\n",
    "\n",
    "#Store the width and height\n",
    "width, height = im.size\n",
    "\n",
    "# Setting the points for cropped image\n",
    "left = 0\n",
    "top = 0\n",
    "right = width\n",
    "bottom = height-100\n",
    "\n",
    "#crop the bottom off the image\n",
    "im_cropped = im.crop((left, top, right, bottom))\n",
    "\n",
    "#get new image width and height, this'll make the math easier\n",
    "width, height = im_cropped.size\n",
    "\n",
    "#Prepare rectangle\n",
    "draw = ImageDraw.Draw(im_cropped)\n",
    "\n",
    "#Size of rectangle\n",
    "w, h = 200, 100\n",
    "\n",
    "x0 = 0\n",
    "y0 = height - h\n",
    "x1 = w\n",
    "y1 = height    \n",
    "\n",
    "shape = [(x0, y0), (x1, y1)]\n",
    "draw.rectangle(shape, fill =\"black\",outline =\"black\")\n",
    "\n",
    "#how will we save without overwriting?\n",
    "# current filepath is\n",
    "# PosixPath('/home/andre/Documents/talks/python_image_manip/test_data/images/010116060142029a3301.JPG')\n",
    "\n",
    "output_image_path = Path.cwd().joinpath(output_path,image_path.name)\n",
    "\n",
    "im_cropped.save(output_image_path)"
   ]
  },
  {
   "cell_type": "markdown",
   "id": "251b59af-e3f1-4e2b-a328-2f16e028e505",
   "metadata": {},
   "source": [
    "#### Converting to a function\n"
   ]
  },
  {
   "cell_type": "code",
   "execution_count": null,
   "id": "f793a9ee-b91b-48f0-97fd-214c2f8545f3",
   "metadata": {},
   "outputs": [],
   "source": [
    "from pathlib import Path\n",
    "from PIL import Image, ImageDraw\n",
    "\n",
    "example_image_path = 'example_images'\n",
    "output_path = 'output'\n",
    "\n",
    "# Generate Path objects\n",
    "raw_path = Path.cwd().joinpath(example_image_path)\n",
    "image_paths = raw_path.glob(\"*.JPG\")\n",
    "\n",
    "# Get the first image path out of the generator\n",
    "image_path = next(image_paths)\n",
    "\n",
    "print(image_path)\n",
    "\n",
    "def imageprocess_dev(image_path, output_path):\n",
    "    \"\"\"\n",
    "    Crops the bottom 100 pixels from an image and adds a black rectangle at the bottom.\n",
    "\n",
    "    Args:\n",
    "        image_path (str): Path to the image file.\n",
    "        output_path (str): Directory where the processed image will be saved.\n",
    "\n",
    "    This function opens an image, crops the bottom 100 pixels, and adds a black rectangle\n",
    "    at the bottom of the cropped image. The modified image is then saved to the specified\n",
    "    output path which must be provided.\n",
    "\n",
    "    Example:\n",
    "    >>> imageprocess_dev(\"/path/to/image.jpg\", \"/path/to/output/\")\n",
    "\n",
    "    Prepare image to be suitable for MachineLearning\n",
    "\n",
    "    Takes image at filepath and crops the vendor info bar off \n",
    "    the bottom. It also blocks out the vendor logo in the lower\n",
    "    left corner.\n",
    "\n",
    "    Keyword arguments:\n",
    "    image_path(str) -- the path to the image\n",
    "    output_path(str) -- the path the modified image is saved to\n",
    "    \"\"\"\n",
    "    \n",
    "    if not output_path:\n",
    "        raise ValueError(\"An output path must be provided.\")\n",
    "        \n",
    "    im = Image.open(image_path)\n",
    "    \n",
    "    #Store the width and height\n",
    "    width, height = im.size\n",
    "    \n",
    "    # Setting the points for cropped image\n",
    "    left = 0\n",
    "    top = 0\n",
    "    right = width\n",
    "    bottom = height-100\n",
    "    \n",
    "    #crop the bottom off the image\n",
    "    im_cropped = im.crop((left, top, right, bottom))\n",
    "    \n",
    "    #get new image width and height, this'll make the math easier\n",
    "    width, height = im_cropped.size\n",
    "    \n",
    "    #Prepare rectangle\n",
    "    draw = ImageDraw.Draw(im_cropped)\n",
    "    \n",
    "    #Size of rectangle\n",
    "    w, h = 200, 100\n",
    "    \n",
    "    x0 = 0\n",
    "    y0 = height - h\n",
    "    x1 = w\n",
    "    y1 = height    \n",
    "    \n",
    "    shape = [(x0, y0), (x1, y1)]\n",
    "    draw.rectangle(shape, fill =\"black\",outline =\"black\")\n",
    "    \n",
    "    output_image_path = Path.cwd().joinpath(output_path,image_path.name)\n",
    "\n",
    "    # Create the directory if it doesn't exist\n",
    "    output_image_path.parent.mkdir(parents=True, exist_ok=True)\n",
    "    \n",
    "    im_cropped.save(output_image_path)\n",
    "\n",
    "\n",
    "imageprocess_dev(image_path, output_path)"
   ]
  },
  {
   "cell_type": "code",
   "execution_count": null,
   "id": "8e6a5c12-634c-4de8-8def-78105d7cfd9a",
   "metadata": {},
   "outputs": [],
   "source": [
    "# We can now use the function to process another image\n",
    "\n",
    "# Get the next image path out of the generator\n",
    "image_path = next(image_paths)\n",
    "image_path"
   ]
  },
  {
   "cell_type": "code",
   "execution_count": null,
   "id": "044a8d18-eced-495a-990b-28b97fa66fc8",
   "metadata": {},
   "outputs": [],
   "source": [
    "imageprocess_dev(image_path, output_path)"
   ]
  },
  {
   "cell_type": "markdown",
   "id": "1cac05bd-9c49-4954-8789-61548c206058",
   "metadata": {},
   "source": [
    "#### __init__.py → make your functions into a 'package'\n",
    "\n",
    "Let's make a folder called `utils` for our utility functions.  Inside this folder, create a file called `imagefunctions.py`.  This will be a simple python file rather than a jupyter notebook.ipynb file.\n",
    "\n",
    "We also need to create an empty file called `__init__.py`.  This will let python know to treat this folder as a 'package', it'll make importing functions from this folder much easier"
   ]
  },
  {
   "cell_type": "code",
   "execution_count": null,
   "id": "18af8e00-7e1a-46eb-b0ab-f8c25a65da47",
   "metadata": {},
   "outputs": [],
   "source": [
    "ls utils/ # show the contents of the utils folder"
   ]
  },
  {
   "cell_type": "code",
   "execution_count": null,
   "id": "250d8b2e-72a0-49df-8a22-33583a37028e",
   "metadata": {},
   "outputs": [],
   "source": [
    "# Import the imageprocess function from the imagefunctions file\n",
    "from utils.imagefunctions import imageprocess"
   ]
  },
  {
   "cell_type": "code",
   "execution_count": null,
   "id": "af1b93e4-bc80-4fb8-b098-63467acc2640",
   "metadata": {},
   "outputs": [],
   "source": [
    "# Test if it works\n",
    "image_path = next(image_paths) # next image\n",
    "imageprocess(image_path, output_path)"
   ]
  },
  {
   "cell_type": "markdown",
   "id": "647d5b2a-caca-4bb4-b55b-31b14748304f",
   "metadata": {},
   "source": [
    "#### The whole process in one go\n",
    "\n",
    "Rather than using a bunch of next(image_paths), let's use a for loop and put all the steps together."
   ]
  },
  {
   "cell_type": "code",
   "execution_count": null,
   "id": "94cd9090-253a-4586-b093-a175a82d2890",
   "metadata": {},
   "outputs": [],
   "source": [
    "from pathlib import Path\n",
    "from PIL import Image, ImageDraw\n",
    "from utils.imagefunctions import imageprocess\n",
    "\n",
    "example_image_path = 'example_images'\n",
    "output_path = 'output'\n",
    "\n",
    "# Generate Path objects\n",
    "raw_path = Path.cwd().joinpath(example_image_path)\n",
    "image_paths = raw_path.glob(\"*.JPG\")\n",
    "\n",
    "# Iterate though the image_paths with a for loop\n",
    "for image_path in image_paths:\n",
    "    imageprocess(image_path, output_path)\n",
    "\n",
    "    # Print progress using python fstrings\n",
    "    print(f\"Processed {image_path.name}\")\n",
    "    \n"
   ]
  },
  {
   "cell_type": "markdown",
   "id": "30ab7c54-b02a-43d4-9299-a8262bc1d803",
   "metadata": {},
   "source": [
    "## Estimating runtime"
   ]
  },
  {
   "cell_type": "code",
   "execution_count": null,
   "id": "4246253f-e49a-46b2-8889-18b32d3843e3",
   "metadata": {},
   "outputs": [],
   "source": [
    "import timeit"
   ]
  },
  {
   "cell_type": "code",
   "execution_count": null,
   "id": "301b95c7-ece2-4a4e-814f-a4a2da8c5854",
   "metadata": {},
   "outputs": [],
   "source": [
    "run_num = 100\n",
    "runtime = timeit.timeit('imageprocess(image_path, output_path)', globals=globals(), number=run_num)\n",
    "ave_runtime = runtime / run_num\n",
    "\n",
    "total_images = 270450\n",
    "total_images = 800\n",
    "\n",
    "total_runtime_min = ave_runtime * total_images/60\n",
    "\n",
    "print(f\"Average runtime over {run_num} runs: {ave_runtime} seconds\")\n",
    "print(f\"Total runtime for {total_images} images would be very roughtly: {total_runtime_min} minutes\")"
   ]
  },
  {
   "cell_type": "markdown",
   "id": "a25eab08-3959-4acb-9b3b-65a1a6ce5752",
   "metadata": {},
   "source": []
  },
  {
   "cell_type": "markdown",
   "id": "391daf0f-81f3-4992-9c69-f018cbfc8ba4",
   "metadata": {},
   "source": [
    "## Multiprocessing\n",
    "\n",
    "The estimated runtime isn't terrible, but we can do better by using all the processors on your computer.\n",
    "\n",
    "<div style=\"color: white; background-color: #2196F3; border-left: 6px solid #1976D2; padding: 0.5em;\">\n",
    "    <strong>Note:</strong> In the jupyterlite environment you only have access to a single processor, or 'cpu'.  The multiprocessing code below will still work, but you won't get any speedup.  You can take this code and try running it locally in a jupyter notebook session to see the effect.\n",
    "</div>\n"
   ]
  },
  {
   "cell_type": "code",
   "execution_count": null,
   "id": "aeb13d27-b463-412c-8751-9a83b0dc46ac",
   "metadata": {},
   "outputs": [],
   "source": [
    "import multiprocessing as mp\n",
    "\n",
    "print(f'Python can see {mp.cpu_count()} cpus is this environment') # on my laptop, I get 8"
   ]
  },
  {
   "cell_type": "markdown",
   "id": "4078e032-d9d4-4d5d-b7af-af284b28e010",
   "metadata": {},
   "source": [
    "<div style=\"color: black; background-color: #dcffdb; border-left: 6px solid #1976D2; padding: 0.5em;\">\n",
    "    <strong>Aside:</strong> It is increasingly common for modern processors to have different types of cpus.  Often there will be a few high preformance cores and several more efficent, but less capable efficienty cores. If this is the case for you, you might have to take that into account when you divide up the work to be done as dividing equally between all cpus won't get the fastest thoughput\n",
    "</div>"
   ]
  },
  {
   "cell_type": "code",
   "execution_count": 3,
   "id": "cfb1ab7b-401f-446c-a43c-ff4d5c60b8ce",
   "metadata": {},
   "outputs": [
    {
     "name": "stdout",
     "output_type": "stream",
     "text": [
      "Runtime of the mutliprocessing is 11.744295120239258 seconds\n"
     ]
    }
   ],
   "source": [
    "from pathlib import Path\n",
    "from PIL import Image, ImageDraw\n",
    "from utils.imagefunctions import imageprocess\n",
    "import multiprocessing as mp\n",
    "import time\n",
    "\n",
    "image_path = 'example_images' #'test_data/'\n",
    "image_path = 'test_data/'\n",
    "output_path = 'output'\n",
    "\n",
    "# Initialise multiprocessing pool\n",
    "pool = mp.Pool(mp.cpu_count())\n",
    "\n",
    "# Generate Path objects\n",
    "raw_path = Path.cwd().joinpath(image_path)\n",
    "image_paths = raw_path.glob(\"*.JPG\")\n",
    "\n",
    "# Iterate though the image_paths with a for loop\n",
    "start_time = time.time()\n",
    "for result in pool.map(imageprocess, image_paths):\n",
    "    pass\n",
    "end_time = time.time()\n",
    "\n",
    "print(f\"Runtime of the mutliprocessing is {end_time - start_time} seconds\")\n",
    "\n"
   ]
  },
  {
   "cell_type": "code",
   "execution_count": null,
   "id": "5ce6fbca-7c66-4e58-ab0a-692dab984081",
   "metadata": {},
   "outputs": [],
   "source": []
  }
 ],
 "metadata": {
  "kernelspec": {
   "display_name": "Python 3 (ipykernel)",
   "language": "python",
   "name": "python3"
  },
  "language_info": {
   "codemirror_mode": {
    "name": "ipython",
    "version": 3
   },
   "file_extension": ".py",
   "mimetype": "text/x-python",
   "name": "python",
   "nbconvert_exporter": "python",
   "pygments_lexer": "ipython3",
   "version": "3.12.3"
  }
 },
 "nbformat": 4,
 "nbformat_minor": 5
}
