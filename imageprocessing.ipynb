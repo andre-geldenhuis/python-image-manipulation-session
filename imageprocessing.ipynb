{
 "cells": [
  {
   "cell_type": "markdown",
   "id": "d9ea5c24-d8d9-4f0b-bbf2-3796c36e662d",
   "metadata": {},
   "source": [
    "# Python Image Manipulation with thousands of files\n",
    "## Or, How to Get Computers to Do Tedious Things for You\n",
    "\n",
    "\n",
    "### Before you start\n",
    "\n",
    "Most of this session will be in a in [browser version of this session](https://andre-geldenhuis.github.io/python-image-manipulation-session/) where you can do most of the single threaded steps without needing to install anything. (Using the [JupyterLite Xeus Kernel](https://github.com/jupyterlite/xeus) for those interested.)\n",
    "\n",
    "Another way to follow along is to install jupyterlab, git and a terminal locally.  See the [Setup instructions](https://github.com/andre-geldenhuis/python-image-manipulation-session/blob/main/SETUP.md)\n",
    "\n",
    "If you're going to run the session in your own Jupyter environment you'll need:\n",
    "\n",
    "* A local python install (system version is fine for MacOS and most Linux Distros)\n",
    "* Git\n",
    "* a Github account\n",
    "* Git configured with your username and email address.\n",
    "* Jupyter and pillow installed in either a python virtual enviroment or a conda enviroment"
   ]
  },
  {
   "cell_type": "markdown",
   "id": "32e070ba-f761-416b-9c41-a5bdb232c6e3",
   "metadata": {},
   "source": [
    "## Intro\n",
    "\n",
    "Sometimes, you find yourself performing repetitive tasks on a computer. Since computers excel at handling repetitive tasks, we'll explore an example that involves manipulating tens of thousands of images. To make this session accessable to everyone the first half of the session will be in a pure browser jupyterlite session.  Afterward we will switch to local jupyter sessions, for those who have set that up, to use multiprocessing.\n",
    "During this session, we'll cover:\n",
    "\n",
    "* Using Jupyter notebooks for prototyping.\n",
    "    * Shifting the code to python functions for version controll and clarity.\n",
    "* Downloading and working with large datasets\n",
    "* Using Python virtual environments\n",
    "* Iteratively writing code\n",
    "* Version controlling our code as we progress\n",
    "* Optimising code to run in parallel for increased speed\n",
    "\n",
    "We'll conduct most of this using Python in a Jupyterlite notebook. If you've completed the setup, you should be able to follow along in your own local jupyter session. If you've not managed to get though the setup, the browser jupyterlite session will good enough for most of the session."
   ]
  },
  {
   "attachments": {},
   "cell_type": "markdown",
   "id": "f00ff121-6391-4b0c-b9e1-8fe8f9e30d8d",
   "metadata": {},
   "source": [
    "<div style=\"color: white; background-color: #2196F3; border-left: 6px solid #1976D2; padding: 0.5em;\">\n",
    "    <strong>Note:</strong> For those following along in their own, non jupyterlite session, make sure you've installed pillow.  See the setup instructions\n",
    "</div>"
   ]
  },
  {
   "cell_type": "markdown",
   "id": "50130c93-ac9f-44ef-bd14-f9c58b5eed79",
   "metadata": {},
   "source": [
    "## The Dataset\n",
    "\n",
    "From 2014 to 2018 there was a campain using automatic cameras (camera traps) in the Wellington Region.  The large number of captured images, 270,450 by 2018, required some pre processing before being identified with the help of Citizen Scientists.\n",
    "\n",
    "The images have a bottom bar which contrains date and time, which we will be removing.  We also might want to remove the manufacturer logo incase the images are used to machine learning later on.\n",
    "\n",
    "![Example image](docs/images/wellington_thumb_800.jpg \"Examppel Image\")\n",
    "\n",
    "We will be utilizing images from camera traps to experiment with manipulating images on a small scale - then eventually scale to potentially hundreds of thousands of images. Here are the data and instructions for accessing it: https://lila.science/datasets/wellingtoncameratraps"
   ]
  },
  {
   "cell_type": "markdown",
   "id": "8818e655-d9ee-4651-ba80-93347744f2be",
   "metadata": {},
   "source": []
  },
  {
   "cell_type": "code",
   "execution_count": null,
   "id": "1d33f1b1-6d16-494d-b74d-56441811f9dd",
   "metadata": {},
   "outputs": [],
   "source": []
  }
 ],
 "metadata": {
  "kernelspec": {
   "display_name": "Python 3 (ipykernel)",
   "language": "python",
   "name": "python3"
  },
  "language_info": {
   "codemirror_mode": {
    "name": "ipython",
    "version": 3
   },
   "file_extension": ".py",
   "mimetype": "text/x-python",
   "name": "python",
   "nbconvert_exporter": "python",
   "pygments_lexer": "ipython3",
   "version": "3.12.3"
  }
 },
 "nbformat": 4,
 "nbformat_minor": 5
}
