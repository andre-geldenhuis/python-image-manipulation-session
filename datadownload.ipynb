{
 "cells": [
  {
   "cell_type": "code",
   "execution_count": null,
   "id": "881f6a54-f5ce-452d-aecb-de29a35c5aee",
   "metadata": {},
   "outputs": [],
   "source": [
    "import boto3\n",
    "from botocore import UNSIGNED\n",
    "from botocore.client import Config\n",
    "import os\n",
    "\n",
    "# Create a session using unsigned config\n",
    "s3 = boto3.client('s3', config=Config(signature_version=UNSIGNED))\n",
    "\n",
    "# Bucket name\n",
    "bucket_name = 'us-west-2.opendata.source.coop'\n",
    "\n",
    "# The local directory to save the files\n",
    "local_directory = 'test_data/'\n",
    "os.makedirs(local_directory, exist_ok=True)  # Ensure the directory exists\n",
    "\n",
    "# Read the list of files from the file\n",
    "with open('metadata/filesubset.txt', 'r') as file_list:\n",
    "    for line in file_list:\n",
    "        filename = line.strip()  # Remove any extra whitespace\n",
    "        if filename:  # Ensure it's not an empty line\n",
    "            # S3 path for the file \n",
    "            key = f'agentmorris/lila-wildlife/wellington-unzipped/images/{filename}'\n",
    "            # Full path to save the file locally\n",
    "            local_filename = os.path.join(local_directory, filename)\n",
    "\n",
    "            # Download the file\n",
    "            s3.download_file(bucket_name, key, local_filename)\n",
    "            print(f\"Downloaded {filename} to {local_filename}\")\n",
    "\n",
    "print(\"All downloads complete!\")"
   ]
  },
  {
   "cell_type": "code",
   "execution_count": null,
   "id": "a0c30721-ca65-4dc9-bb09-31f52eec3880",
   "metadata": {},
   "outputs": [],
   "source": []
  }
 ],
 "metadata": {
  "kernelspec": {
   "display_name": "Python 3 (ipykernel)",
   "language": "python",
   "name": "python3"
  },
  "language_info": {
   "codemirror_mode": {
    "name": "ipython",
    "version": 3
   },
   "file_extension": ".py",
   "mimetype": "text/x-python",
   "name": "python",
   "nbconvert_exporter": "python",
   "pygments_lexer": "ipython3",
   "version": "3.12.3"
  }
 },
 "nbformat": 4,
 "nbformat_minor": 5
}
